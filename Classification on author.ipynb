{
 "cells": [
  {
   "cell_type": "markdown",
   "metadata": {},
   "source": [
    "# 1. Goals\n",
    "In this notebook I'll attempt to build models to correctly predict the author of a given article. The scope will be limited to 10 authors. The techniques I'll use will include `Tf-idf` Analysis for feature-generation, and `Supervised Learning` (Keras library) for classification.\n",
    "\n",
    "# 2. Introduction to DataSet\n",
    "**From:** [snapcrack/all-the-news](https://www.kaggle.com/snapcrack/all-the-news)\n",
    "\n",
    "This dataset contains news articles scraped from various publications, labeled by publication and author name, as well as date and title.\n",
    "The original source on [kaggle.com](https://www.kaggle.com) contains three `.csv` files. Accross the three, there are over 140,000 articles from a total of 15 publications."
   ]
  },
  {
   "cell_type": "markdown",
   "metadata": {},
   "source": [
    "# Step 0\n",
    "### Import required library"
   ]
  },
  {
   "cell_type": "code",
   "execution_count": 8,
   "metadata": {},
   "outputs": [],
   "source": [
    "# --------- Data processing --------- #\n",
    "import numpy as np\n",
    "import pandas as pd\n",
    "from keras.utils import to_categorical\n",
    "from keras.preprocessing.text import Tokenizer\n",
    "from sklearn.preprocessing import LabelEncoder\n",
    "from sklearn.model_selection import train_test_split\n",
    "# --------- Model design --------- #\n",
    "from tensorflow import keras\n",
    "from tensorflow.keras.layers import Dense, Dropout, BatchNormalization\n",
    "from tensorflow.keras import Sequential\n",
    "# --------- Visualization --------- #\n",
    "from wordcloud import WordCloud\n",
    "import plotly.express as px\n",
    "from plotly import graph_objects as go\n",
    "from plotly.subplots import make_subplots\n",
    "\n",
    "# Input data files are available in the read-only \"../input/\" directory\n",
    "data_path = ['data/articles1.csv',\n",
    "'data/articles2.csv']"
   ]
  },
  {
   "cell_type": "markdown",
   "metadata": {},
   "source": [
    "# Step 1\n",
    "### Exploratory Data Analysis"
   ]
  },
  {
   "cell_type": "code",
   "execution_count": 9,
   "metadata": {},
   "outputs": [],
   "source": [
    "# Read data into a DataFrame\n",
    "dataframes = [pd.read_csv(data) for data in data_path]\n",
    "df = pd.concat(dataframes, ignore_index=True, sort=False)"
   ]
  },
  {
   "cell_type": "code",
   "execution_count": 10,
   "metadata": {},
   "outputs": [
    {
     "data": {
      "text/html": [
       "<div>\n",
       "<style scoped>\n",
       "    .dataframe tbody tr th:only-of-type {\n",
       "        vertical-align: middle;\n",
       "    }\n",
       "\n",
       "    .dataframe tbody tr th {\n",
       "        vertical-align: top;\n",
       "    }\n",
       "\n",
       "    .dataframe thead th {\n",
       "        text-align: right;\n",
       "    }\n",
       "</style>\n",
       "<table border=\"1\" class=\"dataframe\">\n",
       "  <thead>\n",
       "    <tr style=\"text-align: right;\">\n",
       "      <th></th>\n",
       "      <th>Unnamed: 0</th>\n",
       "      <th>id</th>\n",
       "      <th>title</th>\n",
       "      <th>publication</th>\n",
       "      <th>author</th>\n",
       "      <th>date</th>\n",
       "      <th>year</th>\n",
       "      <th>month</th>\n",
       "      <th>url</th>\n",
       "      <th>content</th>\n",
       "    </tr>\n",
       "  </thead>\n",
       "  <tbody>\n",
       "    <tr>\n",
       "      <th>0</th>\n",
       "      <td>0</td>\n",
       "      <td>17283</td>\n",
       "      <td>House Republicans Fret About Winning Their Hea...</td>\n",
       "      <td>New York Times</td>\n",
       "      <td>Carl Hulse</td>\n",
       "      <td>2016-12-31</td>\n",
       "      <td>2016.0</td>\n",
       "      <td>12.0</td>\n",
       "      <td>NaN</td>\n",
       "      <td>WASHINGTON  —   Congressional Republicans have...</td>\n",
       "    </tr>\n",
       "    <tr>\n",
       "      <th>1</th>\n",
       "      <td>1</td>\n",
       "      <td>17284</td>\n",
       "      <td>Rift Between Officers and Residents as Killing...</td>\n",
       "      <td>New York Times</td>\n",
       "      <td>Benjamin Mueller and Al Baker</td>\n",
       "      <td>2017-06-19</td>\n",
       "      <td>2017.0</td>\n",
       "      <td>6.0</td>\n",
       "      <td>NaN</td>\n",
       "      <td>After the bullet shells get counted, the blood...</td>\n",
       "    </tr>\n",
       "    <tr>\n",
       "      <th>2</th>\n",
       "      <td>2</td>\n",
       "      <td>17285</td>\n",
       "      <td>Tyrus Wong, ‘Bambi’ Artist Thwarted by Racial ...</td>\n",
       "      <td>New York Times</td>\n",
       "      <td>Margalit Fox</td>\n",
       "      <td>2017-01-06</td>\n",
       "      <td>2017.0</td>\n",
       "      <td>1.0</td>\n",
       "      <td>NaN</td>\n",
       "      <td>When Walt Disney’s “Bambi” opened in 1942, cri...</td>\n",
       "    </tr>\n",
       "    <tr>\n",
       "      <th>3</th>\n",
       "      <td>3</td>\n",
       "      <td>17286</td>\n",
       "      <td>Among Deaths in 2016, a Heavy Toll in Pop Musi...</td>\n",
       "      <td>New York Times</td>\n",
       "      <td>William McDonald</td>\n",
       "      <td>2017-04-10</td>\n",
       "      <td>2017.0</td>\n",
       "      <td>4.0</td>\n",
       "      <td>NaN</td>\n",
       "      <td>Death may be the great equalizer, but it isn’t...</td>\n",
       "    </tr>\n",
       "    <tr>\n",
       "      <th>4</th>\n",
       "      <td>4</td>\n",
       "      <td>17287</td>\n",
       "      <td>Kim Jong-un Says North Korea Is Preparing to T...</td>\n",
       "      <td>New York Times</td>\n",
       "      <td>Choe Sang-Hun</td>\n",
       "      <td>2017-01-02</td>\n",
       "      <td>2017.0</td>\n",
       "      <td>1.0</td>\n",
       "      <td>NaN</td>\n",
       "      <td>SEOUL, South Korea  —   North Korea’s leader, ...</td>\n",
       "    </tr>\n",
       "  </tbody>\n",
       "</table>\n",
       "</div>"
      ],
      "text/plain": [
       "   Unnamed: 0     id                                              title  \\\n",
       "0           0  17283  House Republicans Fret About Winning Their Hea...   \n",
       "1           1  17284  Rift Between Officers and Residents as Killing...   \n",
       "2           2  17285  Tyrus Wong, ‘Bambi’ Artist Thwarted by Racial ...   \n",
       "3           3  17286  Among Deaths in 2016, a Heavy Toll in Pop Musi...   \n",
       "4           4  17287  Kim Jong-un Says North Korea Is Preparing to T...   \n",
       "\n",
       "      publication                         author        date    year  month  \\\n",
       "0  New York Times                     Carl Hulse  2016-12-31  2016.0   12.0   \n",
       "1  New York Times  Benjamin Mueller and Al Baker  2017-06-19  2017.0    6.0   \n",
       "2  New York Times                   Margalit Fox  2017-01-06  2017.0    1.0   \n",
       "3  New York Times               William McDonald  2017-04-10  2017.0    4.0   \n",
       "4  New York Times                  Choe Sang-Hun  2017-01-02  2017.0    1.0   \n",
       "\n",
       "   url                                            content  \n",
       "0  NaN  WASHINGTON  —   Congressional Republicans have...  \n",
       "1  NaN  After the bullet shells get counted, the blood...  \n",
       "2  NaN  When Walt Disney’s “Bambi” opened in 1942, cri...  \n",
       "3  NaN  Death may be the great equalizer, but it isn’t...  \n",
       "4  NaN  SEOUL, South Korea  —   North Korea’s leader, ...  "
      ]
     },
     "execution_count": 10,
     "metadata": {},
     "output_type": "execute_result"
    }
   ],
   "source": [
    "# Preview the data\n",
    "df.head()"
   ]
  },
  {
   "cell_type": "markdown",
   "metadata": {},
   "source": []
  },
  {
   "cell_type": "code",
   "execution_count": 11,
   "metadata": {},
   "outputs": [
    {
     "data": {
      "text/plain": [
       "title              1\n",
       "publication        0\n",
       "author         14904\n",
       "date            2626\n",
       "content            0\n",
       "dtype: int64"
      ]
     },
     "execution_count": 11,
     "metadata": {},
     "output_type": "execute_result"
    }
   ],
   "source": [
    "# drop useless cloumn\n",
    "df.drop(['Unnamed: 0', 'url', 'id', 'year', 'month'], axis=1, inplace=True)\n",
    "# count of missing data\n",
    "df.isna().sum()"
   ]
  },
  {
   "cell_type": "code",
   "execution_count": 12,
   "metadata": {},
   "outputs": [
    {
     "data": {
      "text/html": [
       "<div>\n",
       "<style scoped>\n",
       "    .dataframe tbody tr th:only-of-type {\n",
       "        vertical-align: middle;\n",
       "    }\n",
       "\n",
       "    .dataframe tbody tr th {\n",
       "        vertical-align: top;\n",
       "    }\n",
       "\n",
       "    .dataframe thead th {\n",
       "        text-align: right;\n",
       "    }\n",
       "</style>\n",
       "<table border=\"1\" class=\"dataframe\">\n",
       "  <thead>\n",
       "    <tr style=\"text-align: right;\">\n",
       "      <th></th>\n",
       "      <th>title</th>\n",
       "      <th>publication</th>\n",
       "      <th>author</th>\n",
       "      <th>date</th>\n",
       "      <th>content</th>\n",
       "    </tr>\n",
       "  </thead>\n",
       "  <tbody>\n",
       "    <tr>\n",
       "      <th>count</th>\n",
       "      <td>83417</td>\n",
       "      <td>83417</td>\n",
       "      <td>83417</td>\n",
       "      <td>83417</td>\n",
       "      <td>83417</td>\n",
       "    </tr>\n",
       "    <tr>\n",
       "      <th>unique</th>\n",
       "      <td>83092</td>\n",
       "      <td>10</td>\n",
       "      <td>8267</td>\n",
       "      <td>794</td>\n",
       "      <td>82975</td>\n",
       "    </tr>\n",
       "    <tr>\n",
       "      <th>top</th>\n",
       "      <td></td>\n",
       "      <td>Breitbart</td>\n",
       "      <td>Breitbart News</td>\n",
       "      <td>2017-04-13</td>\n",
       "      <td>advertisement</td>\n",
       "    </tr>\n",
       "    <tr>\n",
       "      <th>freq</th>\n",
       "      <td>12</td>\n",
       "      <td>23781</td>\n",
       "      <td>1559</td>\n",
       "      <td>313</td>\n",
       "      <td>42</td>\n",
       "    </tr>\n",
       "  </tbody>\n",
       "</table>\n",
       "</div>"
      ],
      "text/plain": [
       "        title publication          author        date        content\n",
       "count   83417       83417           83417       83417          83417\n",
       "unique  83092          10            8267         794          82975\n",
       "top             Breitbart  Breitbart News  2017-04-13  advertisement\n",
       "freq       12       23781            1559         313             42"
      ]
     },
     "execution_count": 12,
     "metadata": {},
     "output_type": "execute_result"
    }
   ],
   "source": [
    "df.dropna(inplace=True) # Drop missing data\n",
    "df.describe()"
   ]
  },
  {
   "cell_type": "markdown",
   "metadata": {},
   "source": [
    "## Limit Data\n",
    "### Extract authors with the most news"
   ]
  },
  {
   "cell_type": "code",
   "execution_count": 19,
   "metadata": {},
   "outputs": [
    {
     "data": {
      "text/plain": [
       "9262"
      ]
     },
     "execution_count": 19,
     "metadata": {},
     "output_type": "execute_result"
    }
   ],
   "source": [
    "# Top ten author name and sum of news\n",
    "top_wirter = df.author.value_counts()[:10] \n",
    "sum(top_wirter.values)"
   ]
  },
  {
   "cell_type": "code",
   "execution_count": 21,
   "metadata": {},
   "outputs": [],
   "source": [
    "# Drop rows that are not in the top_writer\n",
    "df_top = pd.DataFrame(columns=df.columns)\n",
    "for i in top_wirter.keys():\n",
    "    df_top = df_top.append(df[df.author == i], ignore_index=True)\n",
    "df = df_top\n",
    "del df_top"
   ]
  },
  {
   "cell_type": "markdown",
   "metadata": {},
   "source": [
    "* look at the histogram of writing of authors"
   ]
  },
  {
   "cell_type": "code",
   "execution_count": 20,
   "metadata": {},
   "outputs": [
    {
     "data": {
      "application/vnd.plotly.v1+json": {
       "config": {
        "plotlyServerURL": "https://plot.ly"
       },
       "data": [
        {
         "histfunc": "sum",
         "type": "histogram",
         "x": [
          "Breitbart News",
          "Pam Key",
          "Associated Press",
          "Charlie Spiering",
          "Jerome Hudson",
          "John Hayward",
          "Daniel Nussbaum",
          "AWR Hawkins",
          "Ian Hanchett",
          "Joel B. Pollak"
         ],
         "xaxis": "x",
         "y": [
          1559,
          1282,
          1214,
          928,
          806,
          747,
          735,
          720,
          647,
          624
         ],
         "yaxis": "y"
        },
        {
         "domain": {
          "x": [
           0,
           1
          ],
          "y": [
           0,
           0.425
          ]
         },
         "labels": [
          "Breitbart News",
          "Pam Key",
          "Associated Press",
          "Charlie Spiering",
          "Jerome Hudson",
          "John Hayward",
          "Daniel Nussbaum",
          "AWR Hawkins",
          "Ian Hanchett",
          "Joel B. Pollak"
         ],
         "type": "pie",
         "values": [
          1559,
          1282,
          1214,
          928,
          806,
          747,
          735,
          720,
          647,
          624
         ]
        }
       ],
       "layout": {
        "height": 900,
        "template": {
         "data": {
          "bar": [
           {
            "error_x": {
             "color": "#2a3f5f"
            },
            "error_y": {
             "color": "#2a3f5f"
            },
            "marker": {
             "line": {
              "color": "#E5ECF6",
              "width": 0.5
             }
            },
            "type": "bar"
           }
          ],
          "barpolar": [
           {
            "marker": {
             "line": {
              "color": "#E5ECF6",
              "width": 0.5
             }
            },
            "type": "barpolar"
           }
          ],
          "carpet": [
           {
            "aaxis": {
             "endlinecolor": "#2a3f5f",
             "gridcolor": "white",
             "linecolor": "white",
             "minorgridcolor": "white",
             "startlinecolor": "#2a3f5f"
            },
            "baxis": {
             "endlinecolor": "#2a3f5f",
             "gridcolor": "white",
             "linecolor": "white",
             "minorgridcolor": "white",
             "startlinecolor": "#2a3f5f"
            },
            "type": "carpet"
           }
          ],
          "choropleth": [
           {
            "colorbar": {
             "outlinewidth": 0,
             "ticks": ""
            },
            "type": "choropleth"
           }
          ],
          "contour": [
           {
            "colorbar": {
             "outlinewidth": 0,
             "ticks": ""
            },
            "colorscale": [
             [
              0,
              "#0d0887"
             ],
             [
              0.1111111111111111,
              "#46039f"
             ],
             [
              0.2222222222222222,
              "#7201a8"
             ],
             [
              0.3333333333333333,
              "#9c179e"
             ],
             [
              0.4444444444444444,
              "#bd3786"
             ],
             [
              0.5555555555555556,
              "#d8576b"
             ],
             [
              0.6666666666666666,
              "#ed7953"
             ],
             [
              0.7777777777777778,
              "#fb9f3a"
             ],
             [
              0.8888888888888888,
              "#fdca26"
             ],
             [
              1,
              "#f0f921"
             ]
            ],
            "type": "contour"
           }
          ],
          "contourcarpet": [
           {
            "colorbar": {
             "outlinewidth": 0,
             "ticks": ""
            },
            "type": "contourcarpet"
           }
          ],
          "heatmap": [
           {
            "colorbar": {
             "outlinewidth": 0,
             "ticks": ""
            },
            "colorscale": [
             [
              0,
              "#0d0887"
             ],
             [
              0.1111111111111111,
              "#46039f"
             ],
             [
              0.2222222222222222,
              "#7201a8"
             ],
             [
              0.3333333333333333,
              "#9c179e"
             ],
             [
              0.4444444444444444,
              "#bd3786"
             ],
             [
              0.5555555555555556,
              "#d8576b"
             ],
             [
              0.6666666666666666,
              "#ed7953"
             ],
             [
              0.7777777777777778,
              "#fb9f3a"
             ],
             [
              0.8888888888888888,
              "#fdca26"
             ],
             [
              1,
              "#f0f921"
             ]
            ],
            "type": "heatmap"
           }
          ],
          "heatmapgl": [
           {
            "colorbar": {
             "outlinewidth": 0,
             "ticks": ""
            },
            "colorscale": [
             [
              0,
              "#0d0887"
             ],
             [
              0.1111111111111111,
              "#46039f"
             ],
             [
              0.2222222222222222,
              "#7201a8"
             ],
             [
              0.3333333333333333,
              "#9c179e"
             ],
             [
              0.4444444444444444,
              "#bd3786"
             ],
             [
              0.5555555555555556,
              "#d8576b"
             ],
             [
              0.6666666666666666,
              "#ed7953"
             ],
             [
              0.7777777777777778,
              "#fb9f3a"
             ],
             [
              0.8888888888888888,
              "#fdca26"
             ],
             [
              1,
              "#f0f921"
             ]
            ],
            "type": "heatmapgl"
           }
          ],
          "histogram": [
           {
            "marker": {
             "colorbar": {
              "outlinewidth": 0,
              "ticks": ""
             }
            },
            "type": "histogram"
           }
          ],
          "histogram2d": [
           {
            "colorbar": {
             "outlinewidth": 0,
             "ticks": ""
            },
            "colorscale": [
             [
              0,
              "#0d0887"
             ],
             [
              0.1111111111111111,
              "#46039f"
             ],
             [
              0.2222222222222222,
              "#7201a8"
             ],
             [
              0.3333333333333333,
              "#9c179e"
             ],
             [
              0.4444444444444444,
              "#bd3786"
             ],
             [
              0.5555555555555556,
              "#d8576b"
             ],
             [
              0.6666666666666666,
              "#ed7953"
             ],
             [
              0.7777777777777778,
              "#fb9f3a"
             ],
             [
              0.8888888888888888,
              "#fdca26"
             ],
             [
              1,
              "#f0f921"
             ]
            ],
            "type": "histogram2d"
           }
          ],
          "histogram2dcontour": [
           {
            "colorbar": {
             "outlinewidth": 0,
             "ticks": ""
            },
            "colorscale": [
             [
              0,
              "#0d0887"
             ],
             [
              0.1111111111111111,
              "#46039f"
             ],
             [
              0.2222222222222222,
              "#7201a8"
             ],
             [
              0.3333333333333333,
              "#9c179e"
             ],
             [
              0.4444444444444444,
              "#bd3786"
             ],
             [
              0.5555555555555556,
              "#d8576b"
             ],
             [
              0.6666666666666666,
              "#ed7953"
             ],
             [
              0.7777777777777778,
              "#fb9f3a"
             ],
             [
              0.8888888888888888,
              "#fdca26"
             ],
             [
              1,
              "#f0f921"
             ]
            ],
            "type": "histogram2dcontour"
           }
          ],
          "mesh3d": [
           {
            "colorbar": {
             "outlinewidth": 0,
             "ticks": ""
            },
            "type": "mesh3d"
           }
          ],
          "parcoords": [
           {
            "line": {
             "colorbar": {
              "outlinewidth": 0,
              "ticks": ""
             }
            },
            "type": "parcoords"
           }
          ],
          "pie": [
           {
            "automargin": true,
            "type": "pie"
           }
          ],
          "scatter": [
           {
            "marker": {
             "colorbar": {
              "outlinewidth": 0,
              "ticks": ""
             }
            },
            "type": "scatter"
           }
          ],
          "scatter3d": [
           {
            "line": {
             "colorbar": {
              "outlinewidth": 0,
              "ticks": ""
             }
            },
            "marker": {
             "colorbar": {
              "outlinewidth": 0,
              "ticks": ""
             }
            },
            "type": "scatter3d"
           }
          ],
          "scattercarpet": [
           {
            "marker": {
             "colorbar": {
              "outlinewidth": 0,
              "ticks": ""
             }
            },
            "type": "scattercarpet"
           }
          ],
          "scattergeo": [
           {
            "marker": {
             "colorbar": {
              "outlinewidth": 0,
              "ticks": ""
             }
            },
            "type": "scattergeo"
           }
          ],
          "scattergl": [
           {
            "marker": {
             "colorbar": {
              "outlinewidth": 0,
              "ticks": ""
             }
            },
            "type": "scattergl"
           }
          ],
          "scattermapbox": [
           {
            "marker": {
             "colorbar": {
              "outlinewidth": 0,
              "ticks": ""
             }
            },
            "type": "scattermapbox"
           }
          ],
          "scatterpolar": [
           {
            "marker": {
             "colorbar": {
              "outlinewidth": 0,
              "ticks": ""
             }
            },
            "type": "scatterpolar"
           }
          ],
          "scatterpolargl": [
           {
            "marker": {
             "colorbar": {
              "outlinewidth": 0,
              "ticks": ""
             }
            },
            "type": "scatterpolargl"
           }
          ],
          "scatterternary": [
           {
            "marker": {
             "colorbar": {
              "outlinewidth": 0,
              "ticks": ""
             }
            },
            "type": "scatterternary"
           }
          ],
          "surface": [
           {
            "colorbar": {
             "outlinewidth": 0,
             "ticks": ""
            },
            "colorscale": [
             [
              0,
              "#0d0887"
             ],
             [
              0.1111111111111111,
              "#46039f"
             ],
             [
              0.2222222222222222,
              "#7201a8"
             ],
             [
              0.3333333333333333,
              "#9c179e"
             ],
             [
              0.4444444444444444,
              "#bd3786"
             ],
             [
              0.5555555555555556,
              "#d8576b"
             ],
             [
              0.6666666666666666,
              "#ed7953"
             ],
             [
              0.7777777777777778,
              "#fb9f3a"
             ],
             [
              0.8888888888888888,
              "#fdca26"
             ],
             [
              1,
              "#f0f921"
             ]
            ],
            "type": "surface"
           }
          ],
          "table": [
           {
            "cells": {
             "fill": {
              "color": "#EBF0F8"
             },
             "line": {
              "color": "white"
             }
            },
            "header": {
             "fill": {
              "color": "#C8D4E3"
             },
             "line": {
              "color": "white"
             }
            },
            "type": "table"
           }
          ]
         },
         "layout": {
          "annotationdefaults": {
           "arrowcolor": "#2a3f5f",
           "arrowhead": 0,
           "arrowwidth": 1
          },
          "autotypenumbers": "strict",
          "coloraxis": {
           "colorbar": {
            "outlinewidth": 0,
            "ticks": ""
           }
          },
          "colorscale": {
           "diverging": [
            [
             0,
             "#8e0152"
            ],
            [
             0.1,
             "#c51b7d"
            ],
            [
             0.2,
             "#de77ae"
            ],
            [
             0.3,
             "#f1b6da"
            ],
            [
             0.4,
             "#fde0ef"
            ],
            [
             0.5,
             "#f7f7f7"
            ],
            [
             0.6,
             "#e6f5d0"
            ],
            [
             0.7,
             "#b8e186"
            ],
            [
             0.8,
             "#7fbc41"
            ],
            [
             0.9,
             "#4d9221"
            ],
            [
             1,
             "#276419"
            ]
           ],
           "sequential": [
            [
             0,
             "#0d0887"
            ],
            [
             0.1111111111111111,
             "#46039f"
            ],
            [
             0.2222222222222222,
             "#7201a8"
            ],
            [
             0.3333333333333333,
             "#9c179e"
            ],
            [
             0.4444444444444444,
             "#bd3786"
            ],
            [
             0.5555555555555556,
             "#d8576b"
            ],
            [
             0.6666666666666666,
             "#ed7953"
            ],
            [
             0.7777777777777778,
             "#fb9f3a"
            ],
            [
             0.8888888888888888,
             "#fdca26"
            ],
            [
             1,
             "#f0f921"
            ]
           ],
           "sequentialminus": [
            [
             0,
             "#0d0887"
            ],
            [
             0.1111111111111111,
             "#46039f"
            ],
            [
             0.2222222222222222,
             "#7201a8"
            ],
            [
             0.3333333333333333,
             "#9c179e"
            ],
            [
             0.4444444444444444,
             "#bd3786"
            ],
            [
             0.5555555555555556,
             "#d8576b"
            ],
            [
             0.6666666666666666,
             "#ed7953"
            ],
            [
             0.7777777777777778,
             "#fb9f3a"
            ],
            [
             0.8888888888888888,
             "#fdca26"
            ],
            [
             1,
             "#f0f921"
            ]
           ]
          },
          "colorway": [
           "#636efa",
           "#EF553B",
           "#00cc96",
           "#ab63fa",
           "#FFA15A",
           "#19d3f3",
           "#FF6692",
           "#B6E880",
           "#FF97FF",
           "#FECB52"
          ],
          "font": {
           "color": "#2a3f5f"
          },
          "geo": {
           "bgcolor": "white",
           "lakecolor": "white",
           "landcolor": "#E5ECF6",
           "showlakes": true,
           "showland": true,
           "subunitcolor": "white"
          },
          "hoverlabel": {
           "align": "left"
          },
          "hovermode": "closest",
          "mapbox": {
           "style": "light"
          },
          "paper_bgcolor": "white",
          "plot_bgcolor": "#E5ECF6",
          "polar": {
           "angularaxis": {
            "gridcolor": "white",
            "linecolor": "white",
            "ticks": ""
           },
           "bgcolor": "#E5ECF6",
           "radialaxis": {
            "gridcolor": "white",
            "linecolor": "white",
            "ticks": ""
           }
          },
          "scene": {
           "xaxis": {
            "backgroundcolor": "#E5ECF6",
            "gridcolor": "white",
            "gridwidth": 2,
            "linecolor": "white",
            "showbackground": true,
            "ticks": "",
            "zerolinecolor": "white"
           },
           "yaxis": {
            "backgroundcolor": "#E5ECF6",
            "gridcolor": "white",
            "gridwidth": 2,
            "linecolor": "white",
            "showbackground": true,
            "ticks": "",
            "zerolinecolor": "white"
           },
           "zaxis": {
            "backgroundcolor": "#E5ECF6",
            "gridcolor": "white",
            "gridwidth": 2,
            "linecolor": "white",
            "showbackground": true,
            "ticks": "",
            "zerolinecolor": "white"
           }
          },
          "shapedefaults": {
           "line": {
            "color": "#2a3f5f"
           }
          },
          "ternary": {
           "aaxis": {
            "gridcolor": "white",
            "linecolor": "white",
            "ticks": ""
           },
           "baxis": {
            "gridcolor": "white",
            "linecolor": "white",
            "ticks": ""
           },
           "bgcolor": "#E5ECF6",
           "caxis": {
            "gridcolor": "white",
            "linecolor": "white",
            "ticks": ""
           }
          },
          "title": {
           "x": 0.05
          },
          "xaxis": {
           "automargin": true,
           "gridcolor": "white",
           "linecolor": "white",
           "ticks": "",
           "title": {
            "standoff": 15
           },
           "zerolinecolor": "white",
           "zerolinewidth": 2
          },
          "yaxis": {
           "automargin": true,
           "gridcolor": "white",
           "linecolor": "white",
           "ticks": "",
           "title": {
            "standoff": 15
           },
           "zerolinecolor": "white",
           "zerolinewidth": 2
          }
         }
        },
        "title": {
         "text": "The writings of the top ten authors"
        },
        "width": 900,
        "xaxis": {
         "anchor": "y",
         "autorange": true,
         "domain": [
          0,
          1
         ],
         "range": [
          -0.5,
          9.5
         ],
         "type": "category"
        },
        "yaxis": {
         "anchor": "x",
         "autorange": true,
         "domain": [
          0.575,
          1
         ],
         "range": [
          0,
          1641.0526315789473
         ],
         "type": "linear"
        }
       }
      }
     },
     "metadata": {},
     "output_type": "display_data"
    }
   ],
   "source": [
    "fig = make_subplots(\n",
    "    rows=2, cols=1,\n",
    "    specs=[[{\"type\": \"histogram\"}], [{\"type\": \"pie\"}]],\n",
    ")\n",
    "\n",
    "x_fig, y_fig = [*df.author.keys()], [*top_wirter.values]\n",
    "\n",
    "fig.add_trace(\n",
    "    go.Histogram(histfunc=\"sum\", y=y_fig, x=x_fig),\n",
    "    \n",
    "    row=1, col=1\n",
    ")\n",
    "    \n",
    "fig.add_trace(\n",
    "    go.Pie(labels=x_fig, values=y_fig\n",
    "),\n",
    "    row=2, col=1\n",
    ")\n",
    "\n",
    "fig.update_layout(height=900, width=900, title_text=\"The writings of the top ten authors\")\n",
    "fig.show() "
   ]
  },
  {
   "cell_type": "markdown",
   "metadata": {},
   "source": [
    "# Step 2\n",
    "### preprocess data\n",
    "\n",
    "I use various libraries to perform this cleaning"
   ]
  },
  {
   "cell_type": "code",
   "execution_count": 63,
   "metadata": {},
   "outputs": [],
   "source": [
    "def process_row(row):\n",
    "    import re\n",
    "    from textblob import Word\n",
    "    from string import punctuation\n",
    "    from nltk.stem.snowball import SnowballStemmer\n",
    "    from gensim.parsing.preprocessing import STOPWORDS\n",
    "    \n",
    "    \n",
    "    #Mail address\n",
    "    row = re.sub('(\\S+@\\S+)(com|\\s+com)', ' ', row)\n",
    "    #Username\n",
    "    row = re.sub('(\\S+@\\S+)', ' ', row)\n",
    "    #punctuation\n",
    "    punctuation = punctuation + '\\n' + '—“,”‘-’' + '0123456789'\n",
    "    row = ''.join(word for word in row if word not in punctuation)\n",
    "    #Lower case \n",
    "    row = row.lower()\n",
    "    #Stopwords\n",
    "    stop = STOPWORDS\n",
    "    row = ' '.join(word for word in row.split() if word not in stop)    \n",
    "    #Lemma\n",
    "    row = \" \".join([Word(word).lemmatize() for word in row.split()])\n",
    "    #Stemming\n",
    "    stemmer = SnowballStemmer(language='english')\n",
    "    row = \" \".join([stemmer.stem(word) for word in row.split()])\n",
    "    #Extra whitespace\n",
    "    row = re.sub('\\s{1,}', ' ', row)\n",
    "    \n",
    "    row = \" \".join([word for word in row.split() if len(word) > 2])\n",
    "\n",
    "    return row"
   ]
  },
  {
   "cell_type": "code",
   "execution_count": 64,
   "metadata": {},
   "outputs": [],
   "source": [
    "df['content'] = df['content'].apply(process_row)"
   ]
  },
  {
   "cell_type": "code",
   "execution_count": 79,
   "metadata": {},
   "outputs": [],
   "source": [
    "df.to_csv('top_ten_preprocessed.csv')"
   ]
  },
  {
   "cell_type": "markdown",
   "metadata": {},
   "source": [
    "* build Word cloud for show word With a lot of repetition"
   ]
  },
  {
   "cell_type": "code",
   "execution_count": 65,
   "metadata": {},
   "outputs": [
    {
     "data": {
      "application/vnd.plotly.v1+json": {
       "config": {
        "plotlyServerURL": "https://plot.ly"
       },
       "data": [
        {
         "hovertemplate": "x: %{x}<br>y: %{y}<br>color: [%{z[0]}, %{z[1]}, %{z[2]}]<extra></extra>",
         "name": "0",
         "source": "data:image/png;base64,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",
         "type": "image",
         "xaxis": "x",
         "yaxis": "y"
        }
       ],
       "layout": {
        "autosize": true,
        "margin": {
         "t": 60
        },
        "template": {
         "data": {
          "bar": [
           {
            "error_x": {
             "color": "#2a3f5f"
            },
            "error_y": {
             "color": "#2a3f5f"
            },
            "marker": {
             "line": {
              "color": "#E5ECF6",
              "width": 0.5
             }
            },
            "type": "bar"
           }
          ],
          "barpolar": [
           {
            "marker": {
             "line": {
              "color": "#E5ECF6",
              "width": 0.5
             }
            },
            "type": "barpolar"
           }
          ],
          "carpet": [
           {
            "aaxis": {
             "endlinecolor": "#2a3f5f",
             "gridcolor": "white",
             "linecolor": "white",
             "minorgridcolor": "white",
             "startlinecolor": "#2a3f5f"
            },
            "baxis": {
             "endlinecolor": "#2a3f5f",
             "gridcolor": "white",
             "linecolor": "white",
             "minorgridcolor": "white",
             "startlinecolor": "#2a3f5f"
            },
            "type": "carpet"
           }
          ],
          "choropleth": [
           {
            "colorbar": {
             "outlinewidth": 0,
             "ticks": ""
            },
            "type": "choropleth"
           }
          ],
          "contour": [
           {
            "colorbar": {
             "outlinewidth": 0,
             "ticks": ""
            },
            "colorscale": [
             [
              0,
              "#0d0887"
             ],
             [
              0.1111111111111111,
              "#46039f"
             ],
             [
              0.2222222222222222,
              "#7201a8"
             ],
             [
              0.3333333333333333,
              "#9c179e"
             ],
             [
              0.4444444444444444,
              "#bd3786"
             ],
             [
              0.5555555555555556,
              "#d8576b"
             ],
             [
              0.6666666666666666,
              "#ed7953"
             ],
             [
              0.7777777777777778,
              "#fb9f3a"
             ],
             [
              0.8888888888888888,
              "#fdca26"
             ],
             [
              1,
              "#f0f921"
             ]
            ],
            "type": "contour"
           }
          ],
          "contourcarpet": [
           {
            "colorbar": {
             "outlinewidth": 0,
             "ticks": ""
            },
            "type": "contourcarpet"
           }
          ],
          "heatmap": [
           {
            "colorbar": {
             "outlinewidth": 0,
             "ticks": ""
            },
            "colorscale": [
             [
              0,
              "#0d0887"
             ],
             [
              0.1111111111111111,
              "#46039f"
             ],
             [
              0.2222222222222222,
              "#7201a8"
             ],
             [
              0.3333333333333333,
              "#9c179e"
             ],
             [
              0.4444444444444444,
              "#bd3786"
             ],
             [
              0.5555555555555556,
              "#d8576b"
             ],
             [
              0.6666666666666666,
              "#ed7953"
             ],
             [
              0.7777777777777778,
              "#fb9f3a"
             ],
             [
              0.8888888888888888,
              "#fdca26"
             ],
             [
              1,
              "#f0f921"
             ]
            ],
            "type": "heatmap"
           }
          ],
          "heatmapgl": [
           {
            "colorbar": {
             "outlinewidth": 0,
             "ticks": ""
            },
            "colorscale": [
             [
              0,
              "#0d0887"
             ],
             [
              0.1111111111111111,
              "#46039f"
             ],
             [
              0.2222222222222222,
              "#7201a8"
             ],
             [
              0.3333333333333333,
              "#9c179e"
             ],
             [
              0.4444444444444444,
              "#bd3786"
             ],
             [
              0.5555555555555556,
              "#d8576b"
             ],
             [
              0.6666666666666666,
              "#ed7953"
             ],
             [
              0.7777777777777778,
              "#fb9f3a"
             ],
             [
              0.8888888888888888,
              "#fdca26"
             ],
             [
              1,
              "#f0f921"
             ]
            ],
            "type": "heatmapgl"
           }
          ],
          "histogram": [
           {
            "marker": {
             "colorbar": {
              "outlinewidth": 0,
              "ticks": ""
             }
            },
            "type": "histogram"
           }
          ],
          "histogram2d": [
           {
            "colorbar": {
             "outlinewidth": 0,
             "ticks": ""
            },
            "colorscale": [
             [
              0,
              "#0d0887"
             ],
             [
              0.1111111111111111,
              "#46039f"
             ],
             [
              0.2222222222222222,
              "#7201a8"
             ],
             [
              0.3333333333333333,
              "#9c179e"
             ],
             [
              0.4444444444444444,
              "#bd3786"
             ],
             [
              0.5555555555555556,
              "#d8576b"
             ],
             [
              0.6666666666666666,
              "#ed7953"
             ],
             [
              0.7777777777777778,
              "#fb9f3a"
             ],
             [
              0.8888888888888888,
              "#fdca26"
             ],
             [
              1,
              "#f0f921"
             ]
            ],
            "type": "histogram2d"
           }
          ],
          "histogram2dcontour": [
           {
            "colorbar": {
             "outlinewidth": 0,
             "ticks": ""
            },
            "colorscale": [
             [
              0,
              "#0d0887"
             ],
             [
              0.1111111111111111,
              "#46039f"
             ],
             [
              0.2222222222222222,
              "#7201a8"
             ],
             [
              0.3333333333333333,
              "#9c179e"
             ],
             [
              0.4444444444444444,
              "#bd3786"
             ],
             [
              0.5555555555555556,
              "#d8576b"
             ],
             [
              0.6666666666666666,
              "#ed7953"
             ],
             [
              0.7777777777777778,
              "#fb9f3a"
             ],
             [
              0.8888888888888888,
              "#fdca26"
             ],
             [
              1,
              "#f0f921"
             ]
            ],
            "type": "histogram2dcontour"
           }
          ],
          "mesh3d": [
           {
            "colorbar": {
             "outlinewidth": 0,
             "ticks": ""
            },
            "type": "mesh3d"
           }
          ],
          "parcoords": [
           {
            "line": {
             "colorbar": {
              "outlinewidth": 0,
              "ticks": ""
             }
            },
            "type": "parcoords"
           }
          ],
          "pie": [
           {
            "automargin": true,
            "type": "pie"
           }
          ],
          "scatter": [
           {
            "marker": {
             "colorbar": {
              "outlinewidth": 0,
              "ticks": ""
             }
            },
            "type": "scatter"
           }
          ],
          "scatter3d": [
           {
            "line": {
             "colorbar": {
              "outlinewidth": 0,
              "ticks": ""
             }
            },
            "marker": {
             "colorbar": {
              "outlinewidth": 0,
              "ticks": ""
             }
            },
            "type": "scatter3d"
           }
          ],
          "scattercarpet": [
           {
            "marker": {
             "colorbar": {
              "outlinewidth": 0,
              "ticks": ""
             }
            },
            "type": "scattercarpet"
           }
          ],
          "scattergeo": [
           {
            "marker": {
             "colorbar": {
              "outlinewidth": 0,
              "ticks": ""
             }
            },
            "type": "scattergeo"
           }
          ],
          "scattergl": [
           {
            "marker": {
             "colorbar": {
              "outlinewidth": 0,
              "ticks": ""
             }
            },
            "type": "scattergl"
           }
          ],
          "scattermapbox": [
           {
            "marker": {
             "colorbar": {
              "outlinewidth": 0,
              "ticks": ""
             }
            },
            "type": "scattermapbox"
           }
          ],
          "scatterpolar": [
           {
            "marker": {
             "colorbar": {
              "outlinewidth": 0,
              "ticks": ""
             }
            },
            "type": "scatterpolar"
           }
          ],
          "scatterpolargl": [
           {
            "marker": {
             "colorbar": {
              "outlinewidth": 0,
              "ticks": ""
             }
            },
            "type": "scatterpolargl"
           }
          ],
          "scatterternary": [
           {
            "marker": {
             "colorbar": {
              "outlinewidth": 0,
              "ticks": ""
             }
            },
            "type": "scatterternary"
           }
          ],
          "surface": [
           {
            "colorbar": {
             "outlinewidth": 0,
             "ticks": ""
            },
            "colorscale": [
             [
              0,
              "#0d0887"
             ],
             [
              0.1111111111111111,
              "#46039f"
             ],
             [
              0.2222222222222222,
              "#7201a8"
             ],
             [
              0.3333333333333333,
              "#9c179e"
             ],
             [
              0.4444444444444444,
              "#bd3786"
             ],
             [
              0.5555555555555556,
              "#d8576b"
             ],
             [
              0.6666666666666666,
              "#ed7953"
             ],
             [
              0.7777777777777778,
              "#fb9f3a"
             ],
             [
              0.8888888888888888,
              "#fdca26"
             ],
             [
              1,
              "#f0f921"
             ]
            ],
            "type": "surface"
           }
          ],
          "table": [
           {
            "cells": {
             "fill": {
              "color": "#EBF0F8"
             },
             "line": {
              "color": "white"
             }
            },
            "header": {
             "fill": {
              "color": "#C8D4E3"
             },
             "line": {
              "color": "white"
             }
            },
            "type": "table"
           }
          ]
         },
         "layout": {
          "annotationdefaults": {
           "arrowcolor": "#2a3f5f",
           "arrowhead": 0,
           "arrowwidth": 1
          },
          "autotypenumbers": "strict",
          "coloraxis": {
           "colorbar": {
            "outlinewidth": 0,
            "ticks": ""
           }
          },
          "colorscale": {
           "diverging": [
            [
             0,
             "#8e0152"
            ],
            [
             0.1,
             "#c51b7d"
            ],
            [
             0.2,
             "#de77ae"
            ],
            [
             0.3,
             "#f1b6da"
            ],
            [
             0.4,
             "#fde0ef"
            ],
            [
             0.5,
             "#f7f7f7"
            ],
            [
             0.6,
             "#e6f5d0"
            ],
            [
             0.7,
             "#b8e186"
            ],
            [
             0.8,
             "#7fbc41"
            ],
            [
             0.9,
             "#4d9221"
            ],
            [
             1,
             "#276419"
            ]
           ],
           "sequential": [
            [
             0,
             "#0d0887"
            ],
            [
             0.1111111111111111,
             "#46039f"
            ],
            [
             0.2222222222222222,
             "#7201a8"
            ],
            [
             0.3333333333333333,
             "#9c179e"
            ],
            [
             0.4444444444444444,
             "#bd3786"
            ],
            [
             0.5555555555555556,
             "#d8576b"
            ],
            [
             0.6666666666666666,
             "#ed7953"
            ],
            [
             0.7777777777777778,
             "#fb9f3a"
            ],
            [
             0.8888888888888888,
             "#fdca26"
            ],
            [
             1,
             "#f0f921"
            ]
           ],
           "sequentialminus": [
            [
             0,
             "#0d0887"
            ],
            [
             0.1111111111111111,
             "#46039f"
            ],
            [
             0.2222222222222222,
             "#7201a8"
            ],
            [
             0.3333333333333333,
             "#9c179e"
            ],
            [
             0.4444444444444444,
             "#bd3786"
            ],
            [
             0.5555555555555556,
             "#d8576b"
            ],
            [
             0.6666666666666666,
             "#ed7953"
            ],
            [
             0.7777777777777778,
             "#fb9f3a"
            ],
            [
             0.8888888888888888,
             "#fdca26"
            ],
            [
             1,
             "#f0f921"
            ]
           ]
          },
          "colorway": [
           "#636efa",
           "#EF553B",
           "#00cc96",
           "#ab63fa",
           "#FFA15A",
           "#19d3f3",
           "#FF6692",
           "#B6E880",
           "#FF97FF",
           "#FECB52"
          ],
          "font": {
           "color": "#2a3f5f"
          },
          "geo": {
           "bgcolor": "white",
           "lakecolor": "white",
           "landcolor": "#E5ECF6",
           "showlakes": true,
           "showland": true,
           "subunitcolor": "white"
          },
          "hoverlabel": {
           "align": "left"
          },
          "hovermode": "closest",
          "mapbox": {
           "style": "light"
          },
          "paper_bgcolor": "white",
          "plot_bgcolor": "#E5ECF6",
          "polar": {
           "angularaxis": {
            "gridcolor": "white",
            "linecolor": "white",
            "ticks": ""
           },
           "bgcolor": "#E5ECF6",
           "radialaxis": {
            "gridcolor": "white",
            "linecolor": "white",
            "ticks": ""
           }
          },
          "scene": {
           "xaxis": {
            "backgroundcolor": "#E5ECF6",
            "gridcolor": "white",
            "gridwidth": 2,
            "linecolor": "white",
            "showbackground": true,
            "ticks": "",
            "zerolinecolor": "white"
           },
           "yaxis": {
            "backgroundcolor": "#E5ECF6",
            "gridcolor": "white",
            "gridwidth": 2,
            "linecolor": "white",
            "showbackground": true,
            "ticks": "",
            "zerolinecolor": "white"
           },
           "zaxis": {
            "backgroundcolor": "#E5ECF6",
            "gridcolor": "white",
            "gridwidth": 2,
            "linecolor": "white",
            "showbackground": true,
            "ticks": "",
            "zerolinecolor": "white"
           }
          },
          "shapedefaults": {
           "line": {
            "color": "#2a3f5f"
           }
          },
          "ternary": {
           "aaxis": {
            "gridcolor": "white",
            "linecolor": "white",
            "ticks": ""
           },
           "baxis": {
            "gridcolor": "white",
            "linecolor": "white",
            "ticks": ""
           },
           "bgcolor": "#E5ECF6",
           "caxis": {
            "gridcolor": "white",
            "linecolor": "white",
            "ticks": ""
           }
          },
          "title": {
           "x": 0.05
          },
          "xaxis": {
           "automargin": true,
           "gridcolor": "white",
           "linecolor": "white",
           "ticks": "",
           "title": {
            "standoff": 15
           },
           "zerolinecolor": "white",
           "zerolinewidth": 2
          },
          "yaxis": {
           "automargin": true,
           "gridcolor": "white",
           "linecolor": "white",
           "ticks": "",
           "title": {
            "standoff": 15
           },
           "zerolinecolor": "white",
           "zerolinewidth": 2
          }
         }
        },
        "xaxis": {
         "anchor": "y",
         "autorange": true,
         "domain": [
          0,
          1
         ],
         "range": [
          -0.5,
          899.5
         ]
        },
        "yaxis": {
         "anchor": "x",
         "autorange": true,
         "domain": [
          0.041935483870967794,
          0.9580645161290322
         ],
         "range": [
          299.5,
          -0.5
         ]
        }
       }
      }
     },
     "metadata": {},
     "output_type": "display_data"
    }
   ],
   "source": [
    "text = ''\n",
    "for i in df['content'].values:\n",
    "    text += f'{i}'\n",
    "wordclud = WordCloud(width=900, height=300, background_color='white').generate(text)\n",
    "fig = px.imshow(wordclud)\n",
    "fig.show()"
   ]
  },
  {
   "cell_type": "markdown",
   "metadata": {},
   "source": [
    "# Step 3\n",
    "### Convert words to numbers (`tf-idf`: for article, `one-hot`: for labels) to embed in the model"
   ]
  },
  {
   "cell_type": "code",
   "execution_count": 81,
   "metadata": {},
   "outputs": [],
   "source": [
    "le = LabelEncoder()\n",
    "labels = to_categorical(le.fit_transform(df.author)) # One-Hot encoding "
   ]
  },
  {
   "cell_type": "code",
   "execution_count": 82,
   "metadata": {},
   "outputs": [],
   "source": [
    "corpus = [*df.content.values]\n",
    "corpus = [c.split() for c in corpus] # add articles in a list"
   ]
  },
  {
   "cell_type": "code",
   "execution_count": 83,
   "metadata": {},
   "outputs": [
    {
     "data": {
      "text/plain": [
       "array(['AWR Hawkins', 'Associated Press', 'Breitbart News',\n",
       "       'Charlie Spiering', 'Daniel Nussbaum', 'Ian Hanchett',\n",
       "       'Jerome Hudson', 'Joel B. Pollak', 'John Hayward', 'Pam Key'],\n",
       "      dtype=object)"
      ]
     },
     "execution_count": 83,
     "metadata": {},
     "output_type": "execute_result"
    }
   ],
   "source": [
    "le.classes_"
   ]
  },
  {
   "cell_type": "markdown",
   "metadata": {},
   "source": [
    "## What is Tfidf ?\n",
    "* TFIDF, short for `term frequency–inverse document frequency`, is a numerical statistic that is intended to reflect how important a word is to a document in a collection or corpus."
   ]
  },
  {
   "cell_type": "code",
   "execution_count": 85,
   "metadata": {},
   "outputs": [],
   "source": [
    "# Tokenize words to tf-idf matrix\n",
    "tokenizer = Tokenizer(num_words=20000)\n",
    "tokenizer.fit_on_texts(corpus)\n",
    "\n",
    "sequences = tokenizer.texts_to_matrix(corpus, mode='tfidf')"
   ]
  },
  {
   "cell_type": "code",
   "execution_count": 87,
   "metadata": {},
   "outputs": [],
   "source": [
    "# Divide the data into two categories: train and test\n",
    "X_train, X_test, y_train, y_test = train_test_split(sequences, labels, test_size=.3)"
   ]
  },
  {
   "cell_type": "markdown",
   "metadata": {},
   "source": [
    "# Step 4\n",
    "### Create Model"
   ]
  },
  {
   "cell_type": "code",
   "execution_count": null,
   "metadata": {},
   "outputs": [],
   "source": []
  },
  {
   "cell_type": "code",
   "execution_count": 89,
   "metadata": {},
   "outputs": [],
   "source": [
    "model = keras.Sequential([\n",
    "    Dense(128,input_shape=(sequences[0].shape)),\n",
    "    Dropout(.3),\n",
    "    Dense(256, activation='relu'),\n",
    "    BatchNormalization(),\n",
    "    Dense(64, activation='relu'),\n",
    "    Dropout(.3),\n",
    "    Dense(64),\n",
    "    Dropout(0.3),\n",
    "    Dense(len(le.classes_), activation='softmax')\n",
    "])"
   ]
  },
  {
   "cell_type": "code",
   "execution_count": 90,
   "metadata": {},
   "outputs": [
    {
     "name": "stdout",
     "output_type": "stream",
     "text": [
      "Model: \"sequential_8\"\n",
      "_________________________________________________________________\n",
      "Layer (type)                 Output Shape              Param #   \n",
      "=================================================================\n",
      "embedding_9 (Embedding)      (None, 150, 128)          4900480   \n",
      "_________________________________________________________________\n",
      "lstm_12 (LSTM)               (None, 150, 128)          131584    \n",
      "_________________________________________________________________\n",
      "lstm_13 (LSTM)               (None, 128)               131584    \n",
      "_________________________________________________________________\n",
      "dense_16 (Dense)             (None, 10)                1290      \n",
      "=================================================================\n",
      "Total params: 5,164,938\n",
      "Trainable params: 264,458\n",
      "Non-trainable params: 4,900,480\n",
      "_________________________________________________________________\n"
     ]
    }
   ],
   "source": [
    "model.compile(loss='categorical_crossentropy', optimizer='adam', metrics=['accuracy'])\n",
    "model.summary()"
   ]
  },
  {
   "cell_type": "code",
   "execution_count": 91,
   "metadata": {},
   "outputs": [
    {
     "name": "stdout",
     "output_type": "stream",
     "text": [
      "Epoch 1/10\n",
      "203/203 [==============================] - 48s 238ms/step - loss: 2.1044 - accuracy: 0.1876 - val_loss: 2.0765 - val_accuracy: 0.2155\n",
      "Epoch 2/10\n",
      "203/203 [==============================] - 47s 230ms/step - loss: 2.0215 - accuracy: 0.2326 - val_loss: 2.7670 - val_accuracy: 0.1817\n",
      "Epoch 3/10\n",
      "203/203 [==============================] - 46s 229ms/step - loss: 2.0915 - accuracy: 0.1937 - val_loss: 2.1285 - val_accuracy: 0.2105\n",
      "Epoch 4/10\n",
      "203/203 [==============================] - 47s 232ms/step - loss: 2.0608 - accuracy: 0.2052 - val_loss: 1.9975 - val_accuracy: 0.2271\n",
      "Epoch 5/10\n",
      "203/203 [==============================] - 47s 231ms/step - loss: 1.9304 - accuracy: 0.2667 - val_loss: 1.9024 - val_accuracy: 0.2922\n",
      "Epoch 6/10\n",
      "203/203 [==============================] - 46s 229ms/step - loss: 1.7129 - accuracy: 0.3410 - val_loss: 1.6844 - val_accuracy: 0.3660\n",
      "Epoch 7/10\n",
      "203/203 [==============================] - 47s 230ms/step - loss: 1.6410 - accuracy: 0.3861 - val_loss: 1.5280 - val_accuracy: 0.4077\n",
      "Epoch 8/10\n",
      "203/203 [==============================] - 47s 229ms/step - loss: 1.4106 - accuracy: 0.4863 - val_loss: 1.5143 - val_accuracy: 0.4250\n",
      "Epoch 9/10\n",
      "203/203 [==============================] - 47s 230ms/step - loss: 1.3704 - accuracy: 0.5129 - val_loss: 1.3804 - val_accuracy: 0.5052\n",
      "Epoch 10/10\n",
      "203/203 [==============================] - 47s 231ms/step - loss: 1.2243 - accuracy: 0.5652 - val_loss: 1.2460 - val_accuracy: 0.5444\n"
     ]
    },
    {
     "data": {
      "text/plain": [
       "<tensorflow.python.keras.callbacks.History at 0x2862fe7c9a0>"
      ]
     },
     "execution_count": 91,
     "metadata": {},
     "output_type": "execute_result"
    }
   ],
   "source": [
    "es_callback = keras.callbacks.EarlyStopping(patience=3)\n",
    "history = model.fit(X_train, y_train, epochs=20, batch_size=64, validation_split=.2, callbacks=[es_callback])"
   ]
  },
  {
   "cell_type": "code",
   "execution_count": null,
   "metadata": {},
   "outputs": [],
   "source": [
    "fig = go.Figure()\n",
    "fig.add_trace(go.Scatter(y=history.history['val_accuracy'],\n",
    "                    mode='lines',\n",
    "                    name='Test acc'))\n",
    "fig.add_trace(go.Scatter(y=history.history['accuracy'],\n",
    "                    mode='lines',\n",
    "                    name='Train acc'))\n",
    "\n",
    "fig.show()"
   ]
  },
  {
   "cell_type": "code",
   "execution_count": null,
   "metadata": {},
   "outputs": [],
   "source": [
    "fig = go.Figure()\n",
    "fig.add_trace(go.Scatter(y=history.history['val_loss'],\n",
    "                    mode='lines',\n",
    "                    name='Test loss'))\n",
    "fig.add_trace(go.Scatter(y=history.history['loss'],\n",
    "                    mode='lines',\n",
    "                    name='Train loss'))\n",
    "\n",
    "fig.show()"
   ]
  },
  {
   "cell_type": "code",
   "execution_count": null,
   "metadata": {},
   "outputs": [],
   "source": [
    "eval_ = model.evaluate(X_test, y_test)"
   ]
  },
  {
   "cell_type": "code",
   "execution_count": null,
   "metadata": {},
   "outputs": [],
   "source": [
    "print(\"Loss: {0:.5}\".format(eval_[0]))\n",
    "print(\"Accuracy: {0:.2%}\".format(eval_[1]))"
   ]
  }
 ],
 "metadata": {
  "kernelspec": {
   "display_name": "Python 3",
   "language": "python",
   "name": "python3"
  },
  "language_info": {
   "codemirror_mode": {
    "name": "ipython",
    "version": 3
   },
   "file_extension": ".py",
   "mimetype": "text/x-python",
   "name": "python",
   "nbconvert_exporter": "python",
   "pygments_lexer": "ipython3",
   "version": "3.8.5"
  }
 },
 "nbformat": 4,
 "nbformat_minor": 4
}
