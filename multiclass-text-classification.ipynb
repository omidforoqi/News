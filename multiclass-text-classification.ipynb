{
 "cells": [
  {
   "cell_type": "markdown",
   "id": "aging-alloy",
   "metadata": {
    "papermill": {
     "duration": 0.017337,
     "end_time": "2021-07-05T21:14:23.499325",
     "exception": false,
     "start_time": "2021-07-05T21:14:23.481988",
     "status": "completed"
    },
    "tags": []
   },
   "source": [
    "# Introduce\n",
    "\n",
    "## Goals\n",
    "In this notebook I'll attempt to build models to correctly predict the author of a given article. The scope will be limited to 10 authors.\\\n",
    "The techniques I'll use will include Tf-idf Analysis for feature-generation, and Supervised Learning (Keras library) for classification.\n",
    "\n",
    "## Dataset\n",
    "From: [snapcrack/all-the-news](https://www.kaggle.com/snapcrack/all-the-news)\n",
    "\n",
    "This dataset contains news articles scraped from various publications, labeled by publication and author name, as well as date and title. The original source on [kaggle.com](https://www.kaggle.com) contains three `.csv` files. Accross the three, there are over 140,000 articles from a total of 15 publications."
   ]
  },
  {
   "cell_type": "markdown",
   "id": "abroad-bundle",
   "metadata": {
    "papermill": {
     "duration": 0.016908,
     "end_time": "2021-07-05T21:14:23.532686",
     "exception": false,
     "start_time": "2021-07-05T21:14:23.515778",
     "status": "completed"
    },
    "tags": []
   },
   "source": [
    "# Code Time\n",
    "\n",
    "### Import Libraries"
   ]
  },
  {
   "cell_type": "code",
   "execution_count": 1,
   "id": "operational-candle",
   "metadata": {
    "_cell_guid": "b1076dfc-b9ad-4769-8c92-a6c4dae69d19",
    "_uuid": "8f2839f25d086af736a60e9eeb907d3b93b6e0e5",
    "execution": {
     "iopub.execute_input": "2021-07-05T21:14:23.576934Z",
     "iopub.status.busy": "2021-07-05T21:14:23.576307Z",
     "iopub.status.idle": "2021-07-05T21:14:29.970070Z",
     "shell.execute_reply": "2021-07-05T21:14:29.969380Z",
     "shell.execute_reply.started": "2021-07-05T21:02:49.718466Z"
    },
    "papermill": {
     "duration": 6.421025,
     "end_time": "2021-07-05T21:14:29.970248",
     "exception": false,
     "start_time": "2021-07-05T21:14:23.549223",
     "status": "completed"
    },
    "tags": []
   },
   "outputs": [],
   "source": [
    "from os import walk\n",
    "from os import path\n",
    "# --------- Data processing --------- #\n",
    "import numpy as np # linear algebra\n",
    "import pandas as pd\n",
    "from keras.utils import to_categorical\n",
    "from keras.preprocessing.text import Tokenizer\n",
    "from sklearn.preprocessing import LabelEncoder\n",
    "from sklearn.model_selection import train_test_split\n",
    "# --------- Model design --------- #\n",
    "import tensorflow as tf\n",
    "from tensorflow import keras\n",
    "from keras.layers import Dense, Dropout, BatchNormalization\n",
    "from keras.regularizers import l2\n",
    "from keras import Sequential\n",
    "# --------- Visualization --------- #\n",
    "from wordcloud import WordCloud\n",
    "import matplotlib as mpl\n",
    "import matplotlib.pyplot as plt\n",
    "import seaborn as sns"
   ]
  },
  {
   "cell_type": "markdown",
   "id": "aquatic-implementation",
   "metadata": {
    "papermill": {
     "duration": 0.016385,
     "end_time": "2021-07-05T21:14:30.003826",
     "exception": false,
     "start_time": "2021-07-05T21:14:29.987441",
     "status": "completed"
    },
    "tags": []
   },
   "source": [
    "### Input data"
   ]
  },
  {
   "cell_type": "code",
   "execution_count": 2,
   "id": "prompt-surgeon",
   "metadata": {
    "_cell_guid": "b1076dfc-b9ad-4769-8c92-a6c4dae69d19",
    "_uuid": "8f2839f25d086af736a60e9eeb907d3b93b6e0e5",
    "execution": {
     "iopub.execute_input": "2021-07-05T21:14:30.043773Z",
     "iopub.status.busy": "2021-07-05T21:14:30.043126Z",
     "iopub.status.idle": "2021-07-05T21:14:48.248870Z",
     "shell.execute_reply": "2021-07-05T21:14:48.249587Z",
     "shell.execute_reply.started": "2021-07-05T21:02:56.073723Z"
    },
    "papermill": {
     "duration": 18.229221,
     "end_time": "2021-07-05T21:14:48.249774",
     "exception": false,
     "start_time": "2021-07-05T21:14:30.020553",
     "status": "completed"
    },
    "tags": []
   },
   "outputs": [],
   "source": [
    "data_path = []\n",
    "for dirname, _, filenames in walk('/kaggle/input'):\n",
    "    for filename in filenames:\n",
    "        data_path.append(path.join(dirname, filename))\n",
    "\n",
    "data_path = iter(data_path)\n",
    "# add all csv in to dataframe\n",
    "dataframes = (pd.read_csv(data) for data in data_path)\n",
    "\n",
    "# show all dataframe in one dataframe\n",
    "df = pd.concat(dataframes, ignore_index=True, sort=False)\n",
    "\n",
    "# drop useless cloumn\n",
    "df.drop(['Unnamed: 0', 'url', 'id', 'year', 'month'], axis=1, inplace=True)"
   ]
  },
  {
   "cell_type": "markdown",
   "id": "terminal-russia",
   "metadata": {
    "papermill": {
     "duration": 0.017347,
     "end_time": "2021-07-05T21:14:48.284419",
     "exception": false,
     "start_time": "2021-07-05T21:14:48.267072",
     "status": "completed"
    },
    "tags": []
   },
   "source": [
    "#### Delete useless variables"
   ]
  },
  {
   "cell_type": "code",
   "execution_count": 3,
   "id": "shared-faith",
   "metadata": {
    "execution": {
     "iopub.execute_input": "2021-07-05T21:14:48.323048Z",
     "iopub.status.busy": "2021-07-05T21:14:48.322412Z",
     "iopub.status.idle": "2021-07-05T21:14:48.326394Z",
     "shell.execute_reply": "2021-07-05T21:14:48.326935Z",
     "shell.execute_reply.started": "2021-07-05T21:03:12.881993Z"
    },
    "papermill": {
     "duration": 0.024759,
     "end_time": "2021-07-05T21:14:48.327092",
     "exception": false,
     "start_time": "2021-07-05T21:14:48.302333",
     "status": "completed"
    },
    "tags": []
   },
   "outputs": [],
   "source": [
    "del dataframes, data_path, dirname, filename, filenames"
   ]
  },
  {
   "cell_type": "markdown",
   "id": "favorite-parameter",
   "metadata": {
    "papermill": {
     "duration": 0.016969,
     "end_time": "2021-07-05T21:14:48.360852",
     "exception": false,
     "start_time": "2021-07-05T21:14:48.343883",
     "status": "completed"
    },
    "tags": []
   },
   "source": [
    "### first meet with data"
   ]
  },
  {
   "cell_type": "code",
   "execution_count": 4,
   "id": "monthly-commander",
   "metadata": {
    "execution": {
     "iopub.execute_input": "2021-07-05T21:14:48.399091Z",
     "iopub.status.busy": "2021-07-05T21:14:48.398168Z",
     "iopub.status.idle": "2021-07-05T21:14:48.599524Z",
     "shell.execute_reply": "2021-07-05T21:14:48.600025Z",
     "shell.execute_reply.started": "2021-07-05T21:03:12.886864Z"
    },
    "papermill": {
     "duration": 0.222206,
     "end_time": "2021-07-05T21:14:48.600199",
     "exception": false,
     "start_time": "2021-07-05T21:14:48.377993",
     "status": "completed"
    },
    "tags": []
   },
   "outputs": [
    {
     "name": "stdout",
     "output_type": "stream",
     "text": [
      "\u001b[93m Info:\u001b[30m\n",
      "<class 'pandas.core.frame.DataFrame'>\n",
      "RangeIndex: 142570 entries, 0 to 142569\n",
      "Data columns (total 5 columns):\n",
      " #   Column       Non-Null Count   Dtype \n",
      "---  ------       --------------   ----- \n",
      " 0   title        142568 non-null  object\n",
      " 1   publication  142570 non-null  object\n",
      " 2   author       126694 non-null  object\n",
      " 3   date         139929 non-null  object\n",
      " 4   content      142570 non-null  object\n",
      "dtypes: object(5)\n",
      "memory usage: 5.4+ MB\n",
      "None\n",
      "\u001b[93m Nan of each column:\u001b[30m\n",
      "title              2\n",
      "publication        0\n",
      "author         15876\n",
      "date            2641\n",
      "content            0\n",
      "dtype: int64\n",
      "\u001b[93m Count of unique author:\u001b[30m 15648\n",
      "\u001b[91m NOTE: we use only top 10 of authors\u001b[30m\n"
     ]
    },
    {
     "data": {
      "text/html": [
       "<div>\n",
       "<style scoped>\n",
       "    .dataframe tbody tr th:only-of-type {\n",
       "        vertical-align: middle;\n",
       "    }\n",
       "\n",
       "    .dataframe tbody tr th {\n",
       "        vertical-align: top;\n",
       "    }\n",
       "\n",
       "    .dataframe thead th {\n",
       "        text-align: right;\n",
       "    }\n",
       "</style>\n",
       "<table border=\"1\" class=\"dataframe\">\n",
       "  <thead>\n",
       "    <tr style=\"text-align: right;\">\n",
       "      <th></th>\n",
       "      <th>title</th>\n",
       "      <th>publication</th>\n",
       "      <th>author</th>\n",
       "      <th>date</th>\n",
       "      <th>content</th>\n",
       "    </tr>\n",
       "  </thead>\n",
       "  <tbody>\n",
       "    <tr>\n",
       "      <th>0</th>\n",
       "      <td>Patriots Day Is Best When It Digs Past the Her...</td>\n",
       "      <td>Atlantic</td>\n",
       "      <td>David Sims</td>\n",
       "      <td>2017-01-11</td>\n",
       "      <td>Patriots Day, Peter Berg’s new thriller that r...</td>\n",
       "    </tr>\n",
       "    <tr>\n",
       "      <th>1</th>\n",
       "      <td>A Break in the Search for the Origin of Comple...</td>\n",
       "      <td>Atlantic</td>\n",
       "      <td>Ed Yong</td>\n",
       "      <td>2017-01-11</td>\n",
       "      <td>In Norse mythology, humans and our world were ...</td>\n",
       "    </tr>\n",
       "    <tr>\n",
       "      <th>2</th>\n",
       "      <td>Obama’s Ingenious Mention of Atticus Finch</td>\n",
       "      <td>Atlantic</td>\n",
       "      <td>Spencer Kornhaber</td>\n",
       "      <td>2017-01-11</td>\n",
       "      <td>“If our democracy is to work in this increasin...</td>\n",
       "    </tr>\n",
       "    <tr>\n",
       "      <th>3</th>\n",
       "      <td>Donald Trump Meets, and Assails, the Press</td>\n",
       "      <td>Atlantic</td>\n",
       "      <td>David A. Graham</td>\n",
       "      <td>2017-01-11</td>\n",
       "      <td>Updated on January 11 at 5:05 p. m. In his fir...</td>\n",
       "    </tr>\n",
       "    <tr>\n",
       "      <th>4</th>\n",
       "      <td>Trump: ’I Think’ Hacking Was Russian</td>\n",
       "      <td>Atlantic</td>\n",
       "      <td>Kaveh Waddell</td>\n",
       "      <td>2017-01-11</td>\n",
       "      <td>Updated at 12:25 p. m. After months of equivoc...</td>\n",
       "    </tr>\n",
       "  </tbody>\n",
       "</table>\n",
       "</div>"
      ],
      "text/plain": [
       "                                               title publication  \\\n",
       "0  Patriots Day Is Best When It Digs Past the Her...    Atlantic   \n",
       "1  A Break in the Search for the Origin of Comple...    Atlantic   \n",
       "2         Obama’s Ingenious Mention of Atticus Finch    Atlantic   \n",
       "3         Donald Trump Meets, and Assails, the Press    Atlantic   \n",
       "4               Trump: ’I Think’ Hacking Was Russian    Atlantic   \n",
       "\n",
       "              author        date  \\\n",
       "0         David Sims  2017-01-11   \n",
       "1            Ed Yong  2017-01-11   \n",
       "2  Spencer Kornhaber  2017-01-11   \n",
       "3    David A. Graham  2017-01-11   \n",
       "4      Kaveh Waddell  2017-01-11   \n",
       "\n",
       "                                             content  \n",
       "0  Patriots Day, Peter Berg’s new thriller that r...  \n",
       "1  In Norse mythology, humans and our world were ...  \n",
       "2  “If our democracy is to work in this increasin...  \n",
       "3  Updated on January 11 at 5:05 p. m. In his fir...  \n",
       "4  Updated at 12:25 p. m. After months of equivoc...  "
      ]
     },
     "execution_count": 4,
     "metadata": {},
     "output_type": "execute_result"
    }
   ],
   "source": [
    "print('\\033[93m Info:\\033[30m')\n",
    "print(df.info())\n",
    "print('\\033[93m Nan of each column:\\033[30m')\n",
    "print(df.isna().sum())\n",
    "print('\\033[93m Count of unique author:\\033[30m', end=' ')\n",
    "print(len(df.author.unique()))\n",
    "print('\\033[91m NOTE: we use only top 10 of authors\\033[30m')\n",
    "\n",
    "# Preview data\n",
    "df.head()"
   ]
  },
  {
   "cell_type": "markdown",
   "id": "corrected-police",
   "metadata": {
    "papermill": {
     "duration": 0.01816,
     "end_time": "2021-07-05T21:14:48.636982",
     "exception": false,
     "start_time": "2021-07-05T21:14:48.618822",
     "status": "completed"
    },
    "tags": []
   },
   "source": [
    "### Extract 10 class from dataset"
   ]
  },
  {
   "cell_type": "code",
   "execution_count": 5,
   "id": "separate-trout",
   "metadata": {
    "execution": {
     "iopub.execute_input": "2021-07-05T21:14:48.712606Z",
     "iopub.status.busy": "2021-07-05T21:14:48.698359Z",
     "iopub.status.idle": "2021-07-05T21:14:48.910533Z",
     "shell.execute_reply": "2021-07-05T21:14:48.909990Z",
     "shell.execute_reply.started": "2021-07-05T21:03:13.033157Z"
    },
    "papermill": {
     "duration": 0.255177,
     "end_time": "2021-07-05T21:14:48.910712",
     "exception": false,
     "start_time": "2021-07-05T21:14:48.655535",
     "status": "completed"
    },
    "tags": []
   },
   "outputs": [],
   "source": [
    "# we use only top 10 of authors for classification\n",
    "top_wirter = df.author.value_counts()[:10] \n",
    "\n",
    "# Drop rows that are not in the top_writer\n",
    "df_top = pd.DataFrame(columns=df.columns)\n",
    "for i in top_wirter.keys():\n",
    "    df_top = df_top.append(df[df.author == i], ignore_index=True)\n",
    "\n",
    "df = df_top"
   ]
  },
  {
   "cell_type": "markdown",
   "id": "matched-universal",
   "metadata": {
    "papermill": {
     "duration": 0.018163,
     "end_time": "2021-07-05T21:14:48.947464",
     "exception": false,
     "start_time": "2021-07-05T21:14:48.929301",
     "status": "completed"
    },
    "tags": []
   },
   "source": [
    "#### Delete useless variables"
   ]
  },
  {
   "cell_type": "code",
   "execution_count": 6,
   "id": "appreciated-creator",
   "metadata": {
    "execution": {
     "iopub.execute_input": "2021-07-05T21:14:48.987713Z",
     "iopub.status.busy": "2021-07-05T21:14:48.987050Z",
     "iopub.status.idle": "2021-07-05T21:14:48.990021Z",
     "shell.execute_reply": "2021-07-05T21:14:48.989432Z",
     "shell.execute_reply.started": "2021-07-05T21:03:13.157628Z"
    },
    "papermill": {
     "duration": 0.025106,
     "end_time": "2021-07-05T21:14:48.990149",
     "exception": false,
     "start_time": "2021-07-05T21:14:48.965043",
     "status": "completed"
    },
    "tags": []
   },
   "outputs": [],
   "source": [
    "del df_top, i"
   ]
  },
  {
   "cell_type": "markdown",
   "id": "naked-committee",
   "metadata": {
    "papermill": {
     "duration": 0.01769,
     "end_time": "2021-07-05T21:14:49.026381",
     "exception": false,
     "start_time": "2021-07-05T21:14:49.008691",
     "status": "completed"
    },
    "tags": []
   },
   "source": [
    "### Visualize count of news of each author"
   ]
  },
  {
   "cell_type": "code",
   "execution_count": 7,
   "id": "fallen-replica",
   "metadata": {
    "execution": {
     "iopub.execute_input": "2021-07-05T21:14:49.084295Z",
     "iopub.status.busy": "2021-07-05T21:14:49.083635Z",
     "iopub.status.idle": "2021-07-05T21:14:49.690259Z",
     "shell.execute_reply": "2021-07-05T21:14:49.690786Z",
     "shell.execute_reply.started": "2021-07-05T21:03:13.162551Z"
    },
    "papermill": {
     "duration": 0.646268,
     "end_time": "2021-07-05T21:14:49.690961",
     "exception": false,
     "start_time": "2021-07-05T21:14:49.044693",
     "status": "completed"
    },
    "tags": []
   },
   "outputs": [
    {
     "data": {
      "image/png": "[encoded data removed]",
      "text/plain": [
       "<Figure size 720x1080 with 2 Axes>"
      ]
     },
     "metadata": {
      "needs_background": "light"
     },
     "output_type": "display_data"
    }
   ],
   "source": [
    "f, (ax1, ax2) = plt.subplots(2, 1, figsize=(10,15))\n",
    "ax1.pie(top_wirter.values.tolist(), labels=df.author.unique(), autopct=\"%.1f%%\")\n",
    "sns.histplot(df.author, ax=ax2)\n",
    "ax2.tick_params(labelrotation=45)\n",
    "\n",
    "plt.show()"
   ]
  },
  {
   "cell_type": "markdown",
   "id": "stretch-parade",
   "metadata": {
    "papermill": {
     "duration": 0.020351,
     "end_time": "2021-07-05T21:14:49.733780",
     "exception": false,
     "start_time": "2021-07-05T21:14:49.713429",
     "status": "completed"
    },
    "tags": []
   },
   "source": [
    "### Preprocess"
   ]
  },
  {
   "cell_type": "code",
   "execution_count": 8,
   "id": "extensive-bahamas",
   "metadata": {
    "execution": {
     "iopub.execute_input": "2021-07-05T21:14:49.787548Z",
     "iopub.status.busy": "2021-07-05T21:14:49.786809Z",
     "iopub.status.idle": "2021-07-05T21:16:06.390248Z",
     "shell.execute_reply": "2021-07-05T21:16:06.389618Z",
     "shell.execute_reply.started": "2021-07-05T21:03:13.720050Z"
    },
    "papermill": {
     "duration": 76.63565,
     "end_time": "2021-07-05T21:16:06.390394",
     "exception": false,
     "start_time": "2021-07-05T21:14:49.754744",
     "status": "completed"
    },
    "tags": []
   },
   "outputs": [],
   "source": [
    "def process_row(row):\n",
    "    import re\n",
    "    from textblob import Word\n",
    "    from string import punctuation\n",
    "    from nltk.stem.snowball import SnowballStemmer\n",
    "    from gensim.parsing.preprocessing import STOPWORDS\n",
    "    \n",
    "    \n",
    "    #Mail address\n",
    "    row = re.sub('(\\S+@\\S+)(com|\\s+com)', ' ', row)\n",
    "    #Username\n",
    "    row = re.sub('(\\S+@\\S+)', ' ', row)\n",
    "    #punctuation & Lower case\n",
    "    punctuation = punctuation + '\\n' + '—“,”‘-’' + '0123456789'\n",
    "    row = ''.join(word.lower() for word in row if word not in punctuation)\n",
    "    #Stopwords & Lemma\n",
    "    stop = STOPWORDS\n",
    "    row = ' '.join(Word(word).lemmatize() for word in row.split() if word not in stop)\n",
    "    #Stemming\n",
    "    stemmer = SnowballStemmer(language='english')\n",
    "    row = ' '.join([stemmer.stem(word) for word in row.split() if len(word) > 2])\n",
    "    #Extra whitespace\n",
    "    row = re.sub('\\s{1,}', ' ', row)\n",
    "\n",
    "    return row\n",
    "\n",
    "df['content'] = df['content'].apply(process_row)\n",
    "\n",
    "le = LabelEncoder()\n",
    "labels = to_categorical(le.fit_transform(df.author)) # One-Hot encoding\n",
    "\n",
    "\n",
    "corpus = df.content.values.tolist()\n",
    "corpus = [c.split() for c in corpus] # add articles in a list\n",
    "\n",
    "# Tokenize words to tf-idf matrix\n",
    "tokenizer = Tokenizer(num_words=20000)\n",
    "tokenizer.fit_on_texts(corpus)\n",
    "\n",
    "sequences = tokenizer.texts_to_matrix(corpus, mode='tfidf')\n",
    "\n",
    "# Divide the data into two categories: train and test\n",
    "X_train, X_test, y_train, y_test = train_test_split(sequences, labels, test_size=.3)"
   ]
  },
  {
   "cell_type": "markdown",
   "id": "outside-suspect",
   "metadata": {
    "papermill": {
     "duration": 0.019644,
     "end_time": "2021-07-05T21:16:06.429923",
     "exception": false,
     "start_time": "2021-07-05T21:16:06.410279",
     "status": "completed"
    },
    "tags": []
   },
   "source": [
    "### Create model"
   ]
  },
  {
   "cell_type": "code",
   "execution_count": 9,
   "id": "equal-flour",
   "metadata": {
    "execution": {
     "iopub.execute_input": "2021-07-05T21:16:06.474624Z",
     "iopub.status.busy": "2021-07-05T21:16:06.473953Z",
     "iopub.status.idle": "2021-07-05T21:16:06.576604Z",
     "shell.execute_reply": "2021-07-05T21:16:06.577208Z",
     "shell.execute_reply.started": "2021-07-05T21:12:53.076907Z"
    },
    "papermill": {
     "duration": 0.127992,
     "end_time": "2021-07-05T21:16:06.577367",
     "exception": false,
     "start_time": "2021-07-05T21:16:06.449375",
     "status": "completed"
    },
    "tags": []
   },
   "outputs": [
    {
     "name": "stdout",
     "output_type": "stream",
     "text": [
      "Model: \"sequential\"\n",
      "_________________________________________________________________\n",
      "Layer (type)                 Output Shape              Param #   \n",
      "=================================================================\n",
      "dense (Dense)                (None, 16)                320016    \n",
      "_________________________________________________________________\n",
      "dropout (Dropout)            (None, 16)                0         \n",
      "_________________________________________________________________\n",
      "dense_1 (Dense)              (None, 10)                170       \n",
      "=================================================================\n",
      "Total params: 320,186\n",
      "Trainable params: 320,186\n",
      "Non-trainable params: 0\n",
      "_________________________________________________________________\n"
     ]
    }
   ],
   "source": [
    "model = keras.Sequential([\n",
    "    Dense(16,input_shape=(sequences[0].shape), kernel_regularizer=l2(0.1)),\n",
    "    Dropout(.3),\n",
    "    Dense(len(le.classes_), activation='softmax')\n",
    "])\n",
    "\n",
    "model.compile(loss='categorical_crossentropy', optimizer='sgd', metrics=['accuracy'])\n",
    "model.summary()"
   ]
  },
  {
   "cell_type": "markdown",
   "id": "passing-capital",
   "metadata": {
    "papermill": {
     "duration": 0.019273,
     "end_time": "2021-07-05T21:16:06.616408",
     "exception": false,
     "start_time": "2021-07-05T21:16:06.597135",
     "status": "completed"
    },
    "tags": []
   },
   "source": [
    "### Train model"
   ]
  },
  {
   "cell_type": "code",
   "execution_count": 10,
   "id": "republican-chair",
   "metadata": {
    "execution": {
     "iopub.execute_input": "2021-07-05T21:16:06.661130Z",
     "iopub.status.busy": "2021-07-05T21:16:06.660393Z",
     "iopub.status.idle": "2021-07-05T21:16:11.472139Z",
     "shell.execute_reply": "2021-07-05T21:16:11.471526Z",
     "shell.execute_reply.started": "2021-07-05T21:12:54.995713Z"
    },
    "papermill": {
     "duration": 4.836363,
     "end_time": "2021-07-05T21:16:11.472297",
     "exception": false,
     "start_time": "2021-07-05T21:16:06.635934",
     "status": "completed"
    },
    "tags": []
   },
   "outputs": [
    {
     "name": "stdout",
     "output_type": "stream",
     "text": [
      "Epoch 1/5\n",
      "136/136 [==============================] - 2s 10ms/step - loss: 4.6145 - accuracy: 0.4344 - val_loss: 2.8229 - val_accuracy: 0.8512\n",
      "Epoch 2/5\n",
      "136/136 [==============================] - 1s 4ms/step - loss: 2.4640 - accuracy: 0.9001 - val_loss: 1.9395 - val_accuracy: 0.8955\n",
      "Epoch 3/5\n",
      "136/136 [==============================] - 1s 4ms/step - loss: 1.6795 - accuracy: 0.9495 - val_loss: 1.4493 - val_accuracy: 0.9123\n",
      "Epoch 4/5\n",
      "136/136 [==============================] - 1s 4ms/step - loss: 1.2309 - accuracy: 0.9667 - val_loss: 1.1624 - val_accuracy: 0.9142\n",
      "Epoch 5/5\n",
      "136/136 [==============================] - 1s 4ms/step - loss: 0.9622 - accuracy: 0.9729 - val_loss: 0.9886 - val_accuracy: 0.9170\n"
     ]
    }
   ],
   "source": [
    "history = model.fit(X_train, y_train, epochs=5, validation_split=.33)"
   ]
  },
  {
   "cell_type": "markdown",
   "id": "alien-banks",
   "metadata": {
    "papermill": {
     "duration": 0.034461,
     "end_time": "2021-07-05T21:16:11.542324",
     "exception": false,
     "start_time": "2021-07-05T21:16:11.507863",
     "status": "completed"
    },
    "tags": []
   },
   "source": [
    "### Visualize accuracy/loss plot"
   ]
  },
  {
   "cell_type": "code",
   "execution_count": 11,
   "id": "mounted-neutral",
   "metadata": {
    "execution": {
     "iopub.execute_input": "2021-07-05T21:16:11.725642Z",
     "iopub.status.busy": "2021-07-05T21:16:11.700741Z",
     "iopub.status.idle": "2021-07-05T21:16:11.955910Z",
     "shell.execute_reply": "2021-07-05T21:16:11.955359Z",
     "shell.execute_reply.started": "2021-07-05T21:13:19.607920Z"
    },
    "papermill": {
     "duration": 0.378514,
     "end_time": "2021-07-05T21:16:11.956056",
     "exception": false,
     "start_time": "2021-07-05T21:16:11.577542",
     "status": "completed"
    },
    "tags": []
   },
   "outputs": [
    {
     "data": {
      "image/png": "[encoded data removed]",
      "text/plain": [
       "<Figure size 1368x360 with 2 Axes>"
      ]
     },
     "metadata": {
      "needs_background": "light"
     },
     "output_type": "display_data"
    }
   ],
   "source": [
    "f, (ax1, ax2) = plt.subplots(1, 2, figsize=(19,5))\n",
    "ax1.plot(history.epoch, history.history['loss'], 'o--', label='Train loss')\n",
    "ax1.plot(history.epoch, history.history['val_loss'], 'o--', label='Validation loss')\n",
    "\n",
    "ax2.plot(history.epoch, history.history['accuracy'], 'o--' , label='Train accuracy')\n",
    "ax2.plot(history.epoch, history.history['val_accuracy'], 'o--', label='Validation accuracy',)\n",
    "ax1.legend()\n",
    "ax2.legend()\n",
    "f.show()"
   ]
  },
  {
   "cell_type": "markdown",
   "id": "significant-implement",
   "metadata": {
    "papermill": {
     "duration": 0.036514,
     "end_time": "2021-07-05T21:16:12.029733",
     "exception": false,
     "start_time": "2021-07-05T21:16:11.993219",
     "status": "completed"
    },
    "tags": []
   },
   "source": [
    "### Evaluate model in test data"
   ]
  },
  {
   "cell_type": "code",
   "execution_count": 12,
   "id": "headed-vintage",
   "metadata": {
    "execution": {
     "iopub.execute_input": "2021-07-05T21:16:12.112095Z",
     "iopub.status.busy": "2021-07-05T21:16:12.110833Z",
     "iopub.status.idle": "2021-07-05T21:16:12.875169Z",
     "shell.execute_reply": "2021-07-05T21:16:12.874285Z",
     "shell.execute_reply.started": "2021-07-05T21:13:08.950352Z"
    },
    "papermill": {
     "duration": 0.808403,
     "end_time": "2021-07-05T21:16:12.875366",
     "exception": false,
     "start_time": "2021-07-05T21:16:12.066963",
     "status": "completed"
    },
    "tags": []
   },
   "outputs": [
    {
     "name": "stdout",
     "output_type": "stream",
     "text": [
      "87/87 [==============================] - 0s 2ms/step - loss: 0.9857 - accuracy: 0.9188\n",
      "Loss: 0.98572\n",
      "Accuracy: 91.88%\n"
     ]
    }
   ],
   "source": [
    "eval_ = model.evaluate(X_test, y_test)\n",
    "print(\"Loss: {0:.5}\".format(eval_[0]))\n",
    "print(\"Accuracy: {0:.2%}\".format(eval_[1]))"
   ]
  },
  {
   "cell_type": "code",
   "execution_count": null,
   "id": "english-museum",
   "metadata": {
    "papermill": {
     "duration": 0.038505,
     "end_time": "2021-07-05T21:16:12.953028",
     "exception": false,
     "start_time": "2021-07-05T21:16:12.914523",
     "status": "completed"
    },
    "tags": []
   },
   "outputs": [],
   "source": []
  }
 ],
 "metadata": {
  "kernelspec": {
   "display_name": "Python 3",
   "language": "python",
   "name": "python3"
  },
  "language_info": {
   "codemirror_mode": {
    "name": "ipython",
    "version": 3
   },
   "file_extension": ".py",
   "mimetype": "text/x-python",
   "name": "python",
   "nbconvert_exporter": "python",
   "pygments_lexer": "ipython3",
   "version": "3.7.10"
  },
  "papermill": {
   "default_parameters": {},
   "duration": 119.814595,
   "end_time": "2021-07-05T21:16:15.700346",
   "environment_variables": {},
   "exception": null,
   "input_path": "__notebook__.ipynb",
   "output_path": "__notebook__.ipynb",
   "parameters": {},
   "start_time": "2021-07-05T21:14:15.885751",
   "version": "2.3.3"
  }
 },
 "nbformat": 4,
 "nbformat_minor": 5
}
